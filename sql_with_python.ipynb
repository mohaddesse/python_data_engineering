{
 "cells": [
  {
   "cell_type": "code",
   "execution_count": 17,
   "metadata": {},
   "outputs": [],
   "source": [
    "import sqlite3\n",
    "\n",
    "connection=sqlite3.connect(\"chinook.db\")\n",
    "mycursor=connection.cursor()\n"
   ]
  },
  {
   "cell_type": "code",
   "execution_count": 18,
   "metadata": {},
   "outputs": [
    {
     "name": "stdout",
     "output_type": "stream",
     "text": [
      "(1, 'Rock')\n",
      "(2, 'Jazz')\n",
      "(3, 'Metal')\n",
      "(4, 'Alternative & Punk')\n",
      "(5, 'Rock And Roll')\n",
      "(6, 'Blues')\n",
      "(7, 'Latin')\n",
      "(8, 'Reggae')\n",
      "(9, 'Pop')\n",
      "(10, 'Soundtrack')\n",
      "(11, 'Bossa Nova')\n",
      "(12, 'Easy Listening')\n",
      "(13, 'Heavy Metal')\n",
      "(14, 'R&B/Soul')\n",
      "(15, 'Electronica/Dance')\n",
      "(16, 'World')\n",
      "(17, 'Hip Hop/Rap')\n",
      "(18, 'Science Fiction')\n",
      "(19, 'TV Shows')\n",
      "(20, 'Sci Fi & Fantasy')\n",
      "(21, 'Drama')\n",
      "(22, 'Comedy')\n",
      "(23, 'Alternative')\n",
      "(24, 'Classical')\n",
      "(25, 'Opera')\n"
     ]
    }
   ],
   "source": [
    "query='SELECT * FROM genres;'\n",
    "for i in mycursor.execute(query):\n",
    "    print(i)"
   ]
  },
  {
   "cell_type": "code",
   "execution_count": 19,
   "metadata": {},
   "outputs": [
    {
     "name": "stdout",
     "output_type": "stream",
     "text": [
      "[('albums',), ('sqlite_sequence',), ('artists',), ('customers',), ('employees',), ('genres',), ('invoices',), ('invoice_items',), ('media_types',), ('playlists',), ('playlist_track',), ('tracks',), ('sqlite_stat1',)]\n"
     ]
    }
   ],
   "source": [
    "mycursor.execute(\"\"\"SELECT name FROM sqlite_master  \n",
    "  WHERE type='table';\"\"\")\n",
    "print(mycursor.fetchall())\n"
   ]
  },
  {
   "cell_type": "code",
   "execution_count": 33,
   "metadata": {},
   "outputs": [
    {
     "data": {
      "text/plain": [
       "['AlbumId', 'Title', 'ArtistId']"
      ]
     },
     "execution_count": 33,
     "metadata": {},
     "output_type": "execute_result"
    }
   ],
   "source": [
    "albums_table=mycursor.execute('SELECT * FROM albums;')\n",
    "list(map(lambda x: x[0] ,albums_table.description))\n"
   ]
  },
  {
   "cell_type": "code",
   "execution_count": 36,
   "metadata": {},
   "outputs": [
    {
     "name": "stdout",
     "output_type": "stream",
     "text": [
      "the name of artist is :AC/DC\n",
      "the name of artist is :Accept\n",
      "the name of artist is :Aerosmith\n",
      "the name of artist is :Alanis Morissette\n",
      "the name of artist is :Alice In Chains\n",
      "the name of artist is :Antônio Carlos Jobim\n",
      "the name of artist is :Apocalyptica\n",
      "the name of artist is :Audioslave\n",
      "the name of artist is :BackBeat\n",
      "the name of artist is :Billy Cobham\n"
     ]
    }
   ],
   "source": [
    "artist=mycursor.execute(\"select * from artists limit 10\")\n",
    "for i in artist:\n",
    "    print(f\"the name of artist is :{i[1]}\")"
   ]
  },
  {
   "cell_type": "code",
   "execution_count": 39,
   "metadata": {},
   "outputs": [
    {
     "name": "stdout",
     "output_type": "stream",
     "text": [
      "the name of artist is :Cidade Negra\n",
      "the name of artist is :Vinícius De Moraes & Baden Powell\n",
      "the name of artist is :Motörhead\n",
      "the name of artist is :Motörhead & Girlschool\n",
      "the name of artist is :Dread Zeppelin\n",
      "the name of artist is :Habib Koité and Bamada\n",
      "the name of artist is :Academy of St. Martin in the Fields & Sir Neville Marriner\n",
      "the name of artist is :Academy of St. Martin in the Fields Chamber Ensemble & Sir Neville Marriner\n",
      "the name of artist is :Berliner Philharmoniker, Claudio Abbado & Sabine Meyer\n",
      "the name of artist is :Academy of St. Martin in the Fields, John Birch, Sir Neville Marriner & Sylvia McNair\n",
      "the name of artist is :Emanuel Ax, Eugene Ormandy & Philadelphia Orchestra\n",
      "the name of artist is :Academy of St. Martin in the Fields, Sir Neville Marriner & William Bennett\n",
      "the name of artist is :Academy of St. Martin in the Fields, Sir Neville Marriner & Thurston Dart\n",
      "the name of artist is :Adrian Leaper & Doreen de Feis\n"
     ]
    }
   ],
   "source": [
    "artist=mycursor.execute(\"select * from artists where name like '%ad%'\")\n",
    "for i in artist:\n",
    "    print(f\"the name of artist is :{i[1]}\")"
   ]
  },
  {
   "cell_type": "code",
   "execution_count": 40,
   "metadata": {},
   "outputs": [
    {
     "name": "stdout",
     "output_type": "stream",
     "text": [
      "the name of artist is :Motörhead\n"
     ]
    }
   ],
   "source": [
    "artist=mycursor.execute(\"select * from artists where name like '%ad'\")\n",
    "for i in artist:\n",
    "    print(f\"the name of artist is :{i[1]}\")"
   ]
  },
  {
   "cell_type": "code",
   "execution_count": 42,
   "metadata": {},
   "outputs": [
    {
     "name": "stdout",
     "output_type": "stream",
     "text": [
      "the name of artist is :Def Leppard\n",
      "the name of artist is :Motörhead\n",
      "the name of artist is :Pink Floyd\n",
      "the name of artist is :Simply Red\n",
      "the name of artist is :Jack's Mannequin & Mick Fleetwood\n",
      "the name of artist is :Berliner Philharmoniker & Hans Rosbaud\n"
     ]
    }
   ],
   "source": [
    "artist=mycursor.execute(\"select * from artists where name like '%_d'\")\n",
    "for i in artist:\n",
    "    print(f\"the name of artist is :{i[1]}\")"
   ]
  },
  {
   "cell_type": "code",
   "execution_count": 44,
   "metadata": {},
   "outputs": [
    {
     "name": "stdout",
     "output_type": "stream",
     "text": [
      "the name of artist is :Chico Science & Nação Zumbi\n",
      "the name of artist is :Santana Feat. Rob Thomas\n",
      "the name of artist is :Aquaman\n",
      "the name of artist is :Nação Zumbi\n",
      "the name of artist is :Luciana Souza/Romero Lubambo\n",
      "the name of artist is :Ton Koopman\n",
      "the name of artist is :Itzhak Perlman\n"
     ]
    }
   ],
   "source": [
    "artist=mycursor.execute(\"select * from artists where name like '%m__'\")\n",
    "for i in artist:\n",
    "    print(f\"the name of artist is :{i[1]}\")"
   ]
  },
  {
   "cell_type": "code",
   "execution_count": null,
   "metadata": {},
   "outputs": [],
   "source": []
  }
 ],
 "metadata": {
  "kernelspec": {
   "display_name": "Python 3",
   "language": "python",
   "name": "python3"
  },
  "language_info": {
   "codemirror_mode": {
    "name": "ipython",
    "version": 3
   },
   "file_extension": ".py",
   "mimetype": "text/x-python",
   "name": "python",
   "nbconvert_exporter": "python",
   "pygments_lexer": "ipython3",
   "version": "3.10.4"
  },
  "orig_nbformat": 4,
  "vscode": {
   "interpreter": {
    "hash": "3ad933181bd8a04b432d3370b9dc3b0662ad032c4dfaa4e4f1596c548f763858"
   }
  }
 },
 "nbformat": 4,
 "nbformat_minor": 2
}
